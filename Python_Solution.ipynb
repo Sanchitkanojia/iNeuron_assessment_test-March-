{
 "cells": [
  {
   "cell_type": "markdown",
   "metadata": {},
   "source": [
    "# Python:"
   ]
  },
  {
   "cell_type": "markdown",
   "metadata": {},
   "source": [
    "#### Question: 1\n",
    "\n",
    "\n",
    "You have an input dictionary given,\n",
    "\n",
    "input_dict = {\"abc\":{\"def\":{\"ghi\":{\"jkl\":{\"mno\":{\"pqr\":{\"stu\":{\"vwx\":{\"yz\":\"you are finally here !!!\"}}}}}}}}}\n",
    "\n",
    "Task:  You have to write a Python function that will take this input and print it like that,\n",
    "\n",
    "output = {\"abc\":[\"def\",\"ghi\",\"jkl\",\"mno\",\"pqr\",\"stu\",\"vwx\",\"yz\"],\n",
    "\n",
    " \"def\":[\"ghi\",\"jkl\",\"mno\",\"pqr\",\"stu\",\"vwx\",\"yz\"],\n",
    "\n",
    " \"ghi\":[\"jkl\",\"mno\",\"pqr\",\"stu\",\"vwx\",\"yz\"],\n",
    "\n",
    " \"jkl\":[\"mno\",\"pqr\",\"stu\",\"vwx\",\"yz\"],\n",
    "\n",
    " \"mno\":[\"pqr\",\"stu\",\"vwx\",\"yz\"],\n",
    "\n",
    " \"pqr\":[\"stu\",\"vwx\",\"yz\"],\n",
    "\n",
    " \"stu\":[\"vwx\",\"yz\"],\n",
    "\n",
    " \"vwx\":[\"yz\"],\n",
    "\n",
    " \"yz\":[\"you are finally here !!!\"]}"
   ]
  },
  {
   "cell_type": "code",
   "execution_count": 1,
   "metadata": {},
   "outputs": [
    {
     "data": {
      "text/plain": [
       "{'abc': ['def', 'ghi', 'jkl', 'mno', 'pqr', 'stu', 'vwx', 'yz'],\n",
       " 'def': ['ghi', 'jkl', 'mno', 'pqr', 'stu', 'vwx', 'yz'],\n",
       " 'ghi': ['jkl', 'mno', 'pqr', 'stu', 'vwx', 'yz'],\n",
       " 'jkl': ['mno', 'pqr', 'stu', 'vwx', 'yz'],\n",
       " 'mno': ['pqr', 'stu', 'vwx', 'yz'],\n",
       " 'pqr': ['stu', 'vwx', 'yz'],\n",
       " 'stu': ['vwx', 'yz'],\n",
       " 'vwx': ['yz'],\n",
       " 'yz': ['you are finally here !!!']}"
      ]
     },
     "execution_count": 1,
     "metadata": {},
     "output_type": "execute_result"
    }
   ],
   "source": [
    "def transform_dict(input_dict):\n",
    "    def flatten_dict(d, parent_key='', sep='_'):\n",
    "        items = []\n",
    "        for k, v in d.items():\n",
    "            new_key = f\"{parent_key}{sep}{k}\" if parent_key else k\n",
    "            if isinstance(v, dict):\n",
    "                items.extend(flatten_dict(v, new_key, sep=sep).items())\n",
    "            else:\n",
    "                items.append((new_key, v))\n",
    "        return dict(items)\n",
    "\n",
    "    flat_dict = flatten_dict(input_dict, sep='.')\n",
    "\n",
    "    keys = list(flat_dict.keys())\n",
    "    output = {}\n",
    "\n",
    "    for i, key in enumerate(keys):\n",
    "        split_keys = key.split('.')\n",
    "        for j in range(len(split_keys)):\n",
    "            current_key = split_keys[j]\n",
    "            if current_key not in output:\n",
    "                output[current_key] = split_keys[j+1:]\n",
    "            else:\n",
    "                break  # Break if the key is already processed to avoid overwriting\n",
    "\n",
    "    # Converting final values for \"yz\" into a list with a single string\n",
    "    output['yz'] = [flat_dict[keys[-1]]]\n",
    "\n",
    "    return output\n",
    "\n",
    "input_dict = {\"abc\":{\"def\":{\"ghi\":{\"jkl\":{\"mno\":{\"pqr\":{\"stu\":{\"vwx\":{\"yz\":\"you are finally here !!!\"}}}}}}}}}\n",
    "\n",
    "transform_dict(input_dict)\n"
   ]
  },
  {
   "cell_type": "markdown",
   "metadata": {},
   "source": [
    "#### Question: 2\n",
    "\n",
    "\n",
    "Given an array of length ‘N’, where each element denotes the position of a stall. Now you have ‘N’ stalls and an integer ‘K’ which denotes the number of horses that are mad. To prevent the horses from hurting each other, you need to assign the horses to the stalls, such that the minimum distance between any two of them is as large as possible. Return the largest minimum distance.\n",
    "\n",
    "array: 1,2,4,8,9  &  k=3\n",
    "\n",
    "O/P: 3\n",
    "\n",
    "Explanation: 1st horse at stall 1, 2nd horse at stall 4 and 3rd horse at stall 8"
   ]
  },
  {
   "cell_type": "code",
   "execution_count": 7,
   "metadata": {},
   "outputs": [
    {
     "name": "stdout",
     "output_type": "stream",
     "text": [
      "3\n"
     ]
    }
   ],
   "source": [
    "def max_distance(stalls, k):\n",
    "    stalls.sort()  # Sort the stalls in non-decreasing order\n",
    "    \n",
    "    def is_feasible(mid):\n",
    "        # Place the first horse in the first stall\n",
    "        pos = stalls[0]\n",
    "        elements = 1\n",
    "        \n",
    "        # Try to place the rest k-1 horses\n",
    "        for i in range(1, len(stalls)):\n",
    "            if stalls[i] - pos >= mid:\n",
    "                # If the current stall is at least 'mid' distance away from the last placed stall,\n",
    "                # place a horse here\n",
    "                pos = stalls[i]\n",
    "                elements += 1\n",
    "                if elements == k:\n",
    "                    return True\n",
    "        return False\n",
    "\n",
    "    left, right = 1, stalls[-1] - stalls[0]  # The minimum and maximum possible distance\n",
    "    ans = 0\n",
    "    \n",
    "    while left <= right:\n",
    "        mid = (left + right) // 2\n",
    "        if is_feasible(mid):\n",
    "            ans = mid  # If it's possible, try for a bigger distance\n",
    "            left = mid + 1\n",
    "        else:\n",
    "            right = mid - 1  # If not, reduce the distance\n",
    "    \n",
    "    return ans\n",
    "\n",
    "# Example usage\n",
    "array = [1,2,4,8,9]\n",
    "k = 3\n",
    "print(max_distance(array, k))"
   ]
  },
  {
   "cell_type": "markdown",
   "metadata": {},
   "source": [
    "#### Question: 3\n",
    "\n",
    "Mr. Karthiken works in a door mat manufacturing company. One day, he designed a new door mat with the following specifications:\n",
    "\n",
    "             a) Mat size must be N X M. (N is an odd natural number, and M is 3 times N.)\n",
    "              b) The design should have ‘WELCOME’ written in the center.\n",
    "              c) The design pattern should only use |, . and – characters.\n",
    "\n",
    "    Sample Design is given above image, Write a python code for this."
   ]
  },
  {
   "cell_type": "code",
   "execution_count": 9,
   "metadata": {},
   "outputs": [
    {
     "name": "stdout",
     "output_type": "stream",
     "text": [
      "---------.|.---------\n",
      "------.|..|..|.------\n",
      "---.|..|..|..|..|.---\n",
      "-------WELCOME-------\n",
      "---.|..|..|..|..|.---\n",
      "------.|..|..|.------\n",
      "---------.|.---------\n"
     ]
    }
   ],
   "source": [
    "def design_door_mat(N, M):\n",
    "    # Upper part of the mat\n",
    "    for i in range(N//2):\n",
    "        pattern = '.|.' * (2*i + 1)\n",
    "        print(pattern.center(M, '-'))\n",
    "\n",
    "    # Welcome part of the mat\n",
    "    welcome = 'WELCOME'\n",
    "    print(welcome.center(M, '-'))\n",
    "\n",
    "    # Lower part of the mat\n",
    "    for i in range(N//2-1, -1, -1):\n",
    "        pattern = '.|.' * (2*i + 1)\n",
    "        print(pattern.center(M, '-'))\n",
    "\n",
    "# Given specification in the problem\n",
    "# The size of the mat must be N x M, where N is an odd number and M is 3 times N.\n",
    "N = 7  # for example, as an odd natural number\n",
    "M = N * 3  # as specified M is 3 times N\n",
    "\n",
    "design_door_mat(N, M)"
   ]
  },
  {
   "cell_type": "markdown",
   "metadata": {},
   "source": [
    "#### Question: 4\n",
    "\n",
    "Given an array nums of n integers, return an array of all the unique quadruplets [nums[a], nums[b], nums[c], nums[d]] such that:\n",
    "\n",
    "   a) 0 <= a, b, c, d < n\n",
    "\n",
    "   b) a, b, c, and d are distinct.\n",
    "   \n",
    "   c) nums[a] + nums[b] + nums[c] + nums[d] == target"
   ]
  },
  {
   "cell_type": "code",
   "execution_count": 13,
   "metadata": {},
   "outputs": [
    {
     "name": "stdout",
     "output_type": "stream",
     "text": [
      "[[-2, -1, 1, 2], [-2, 0, 0, 2], [-1, 0, 0, 1]]\n"
     ]
    }
   ],
   "source": [
    "def four_sum(nums, target):\n",
    "    nums.sort()\n",
    "    result, quad = [], []\n",
    "\n",
    "    def k_sum(k, start, target):\n",
    "        if k != 2:\n",
    "            for i in range(start, len(nums) - k + 1):\n",
    "                if i > start and nums[i] == nums[i - 1]:\n",
    "                    continue\n",
    "                if nums[i] * k > target or nums[-1] * k < target:\n",
    "                    break\n",
    "                quad.append(nums[i])\n",
    "                k_sum(k - 1, i + 1, target - nums[i])\n",
    "                quad.pop()\n",
    "            return\n",
    "\n",
    "        # Handle 2-sum case\n",
    "        l, r = start, len(nums) - 1\n",
    "        while l < r:\n",
    "            curr_sum = nums[l] + nums[r]\n",
    "            if curr_sum < target or (l > start and nums[l] == nums[l - 1]):\n",
    "                l += 1\n",
    "            elif curr_sum > target or (r < len(nums) - 1 and nums[r] == nums[r + 1]):\n",
    "                r -= 1\n",
    "            else:\n",
    "                result.append(quad + [nums[l], nums[r]])\n",
    "                l += 1\n",
    "                r -= 1\n",
    "\n",
    "    k_sum(4, 0, target)\n",
    "    return result\n",
    "\n",
    "# Example usage:\n",
    "nums = [1, 0, -1, 0, -2, 2]\n",
    "target = 0\n",
    "print(four_sum(nums, target))\n"
   ]
  }
 ],
 "metadata": {
  "kernelspec": {
   "display_name": "base",
   "language": "python",
   "name": "python3"
  },
  "language_info": {
   "codemirror_mode": {
    "name": "ipython",
    "version": 3
   },
   "file_extension": ".py",
   "mimetype": "text/x-python",
   "name": "python",
   "nbconvert_exporter": "python",
   "pygments_lexer": "ipython3",
   "version": "3.10.9"
  }
 },
 "nbformat": 4,
 "nbformat_minor": 2
}
