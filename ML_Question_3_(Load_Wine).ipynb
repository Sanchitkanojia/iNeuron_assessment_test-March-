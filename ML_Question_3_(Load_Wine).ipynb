{
 "cells": [
  {
   "cell_type": "markdown",
   "metadata": {},
   "source": [
    "## Train and fine tune a decision tree using the wine dataset by following the following steps:-\n",
    "\n",
    "  1. Use load_wine() to generate wine dataset\n",
    "  2. Split the dataset into train and test  dataset\n",
    "  3. Use random search CV to hyperparameter tune the Decision Tree\n",
    "  4. Try to achieve an accuracy of at least 85%"
   ]
  },
  {
   "cell_type": "markdown",
   "metadata": {},
   "source": [
    "## Step 1: Load the Wine Dataset"
   ]
  },
  {
   "cell_type": "code",
   "execution_count": 1,
   "metadata": {},
   "outputs": [
    {
     "name": "stderr",
     "output_type": "stream",
     "text": [
      "C:\\Users\\lenovo\\AppData\\Roaming\\Python\\Python310\\site-packages\\scipy\\__init__.py:169: UserWarning: A NumPy version >=1.18.5 and <1.26.0 is required for this version of SciPy (detected version 1.26.4\n",
      "  warnings.warn(f\"A NumPy version >={np_minversion} and <{np_maxversion}\"\n"
     ]
    }
   ],
   "source": [
    "from sklearn.datasets import load_wine\n",
    "wine = load_wine()\n",
    "X = wine.data\n",
    "y = wine.target"
   ]
  },
  {
   "cell_type": "markdown",
   "metadata": {},
   "source": [
    "## Step 2: Split the Dataset"
   ]
  },
  {
   "cell_type": "code",
   "execution_count": 4,
   "metadata": {},
   "outputs": [],
   "source": [
    "from sklearn.model_selection import train_test_split\n",
    "\n",
    "# Split the dataset into training and testing sets\n",
    "X_train, X_test, y_train, y_test = train_test_split(X, y, test_size=0.2, random_state=42)"
   ]
  },
  {
   "cell_type": "markdown",
   "metadata": {},
   "source": [
    "## Step 3: Hyperparameter Tuning Using RandomizedSearchCV"
   ]
  },
  {
   "cell_type": "code",
   "execution_count": 6,
   "metadata": {},
   "outputs": [
    {
     "name": "stdout",
     "output_type": "stream",
     "text": [
      "Best parameters found:  {'min_samples_split': 9, 'min_samples_leaf': 1, 'max_features': 10, 'max_depth': 3, 'criterion': 'gini'}\n",
      "Best score found:  0.9295566502463055\n"
     ]
    }
   ],
   "source": [
    "from sklearn.model_selection import RandomizedSearchCV\n",
    "from sklearn.tree import DecisionTreeClassifier\n",
    "\n",
    "# Define the parameter grid\n",
    "param_dist = {\n",
    "    \"max_depth\": [3, None],\n",
    "    \"max_features\": range(1, 11),\n",
    "    \"min_samples_split\": range(2, 11),\n",
    "    \"min_samples_leaf\": range(1, 11),\n",
    "    \"criterion\": [\"gini\", \"entropy\"]\n",
    "}\n",
    "\n",
    "# Initialize a DecisionTreeClassifier\n",
    "dt = DecisionTreeClassifier()\n",
    "\n",
    "# Initialize RandomizedSearchCV\n",
    "rs = RandomizedSearchCV(dt, param_dist, n_iter=100, cv=5, random_state=42)\n",
    "\n",
    "# Fit RandomizedSearchCV to the training data\n",
    "rs.fit(X_train, y_train)\n",
    "\n",
    "# Print the best parameters and the best score\n",
    "print(\"Best parameters found: \", rs.best_params_)\n",
    "print(\"Best score found: \", rs.best_score_)"
   ]
  },
  {
   "cell_type": "markdown",
   "metadata": {},
   "source": [
    "## Step 4: Evaluate the Best Model on the Test Set"
   ]
  },
  {
   "cell_type": "code",
   "execution_count": 8,
   "metadata": {},
   "outputs": [
    {
     "name": "stdout",
     "output_type": "stream",
     "text": [
      "Accuracy of the best decision tree: 91.67%\n"
     ]
    }
   ],
   "source": [
    "from sklearn.metrics import accuracy_score\n",
    "\n",
    "# Predict on the test set using the best model\n",
    "y_pred = rs.predict(X_test)\n",
    "\n",
    "# Calculate accuracy\n",
    "accuracy = accuracy_score(y_test, y_pred)\n",
    "print(f\"Accuracy of the best decision tree: {accuracy*100:.2f}%\")"
   ]
  },
  {
   "cell_type": "markdown",
   "metadata": {},
   "source": [
    "Grow a random forest using the following steps:-\n",
    "\n",
    "  1. Continuing the previous question, create 10 subsets of the training dataset. You can use the ShuffleSplit                class for it.\n",
    "  2. Train 1 decision tree on each subset, using the best hyperparameter values found in the previous question.\n",
    "  3. Evaluate all the trees on the test dataset. Are they performing better than the tree created in the previous question?"
   ]
  },
  {
   "cell_type": "code",
   "execution_count": 12,
   "metadata": {},
   "outputs": [
    {
     "name": "stdout",
     "output_type": "stream",
     "text": [
      "Accuracy of individual trees: [0.9722222222222222, 0.9444444444444444, 0.9166666666666666, 0.9166666666666666, 0.9444444444444444, 0.8888888888888888, 0.9166666666666666, 0.9444444444444444, 0.9166666666666666, 0.9444444444444444]\n",
      "Mean accuracy of the trees: 93.06%\n"
     ]
    }
   ],
   "source": [
    "from sklearn.model_selection import ShuffleSplit\n",
    "import numpy as np\n",
    "\n",
    "# Create 10 subsets using ShuffleSplit\n",
    "ss = ShuffleSplit(n_splits=10, test_size=0.2, random_state=42)\n",
    "trees = []\n",
    "\n",
    "for train_index, _ in ss.split(X_train):\n",
    "    dt = DecisionTreeClassifier(**rs.best_params_)\n",
    "    dt.fit(X_train[train_index], y_train[train_index])\n",
    "    trees.append(dt)\n",
    "\n",
    "# Evaluate all the trees on the test dataset\n",
    "tree_accuracies = [accuracy_score(y_test, tree.predict(X_test)) for tree in trees]\n",
    "print(f\"Accuracy of individual trees: {tree_accuracies}\")\n",
    "mean_accuracy = np.mean(tree_accuracies)\n",
    "print(f\"Mean accuracy of the trees: {mean_accuracy*100:.2f}%\")"
   ]
  },
  {
   "cell_type": "code",
   "execution_count": null,
   "metadata": {},
   "outputs": [],
   "source": []
  }
 ],
 "metadata": {
  "kernelspec": {
   "display_name": "base",
   "language": "python",
   "name": "python3"
  },
  "language_info": {
   "codemirror_mode": {
    "name": "ipython",
    "version": 3
   },
   "file_extension": ".py",
   "mimetype": "text/x-python",
   "name": "python",
   "nbconvert_exporter": "python",
   "pygments_lexer": "ipython3",
   "version": "3.10.9"
  }
 },
 "nbformat": 4,
 "nbformat_minor": 2
}
